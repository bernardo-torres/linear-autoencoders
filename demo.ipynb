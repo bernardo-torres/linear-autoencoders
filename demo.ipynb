{
 "cells": [
  {
   "cell_type": "code",
   "execution_count": null,
   "id": "1495b2e7",
   "metadata": {},
   "outputs": [
    {
     "name": "stderr",
     "output_type": "stream",
     "text": [
      "/home/bernardo/anaconda3/envs/idm-311/lib/python3.11/site-packages/stempeg/__init__.py:30: UserWarning: pkg_resources is deprecated as an API. See https://setuptools.pypa.io/en/latest/pkg_resources.html. The pkg_resources package is slated for removal as early as 2025-11-30. Refrain from using this package or pin to Setuptools<81.\n",
      "  import pkg_resources\n"
     ]
    }
   ],
   "source": [
    "import os\n",
    "import torch\n",
    "import musdb\n",
    "import soundfile as sf\n",
    "import numpy as np\n",
    "from tqdm import tqdm\n",
    "\n",
    "\n",
    "from linear_cae import Autoencoder \n",
    "from linear_cae.baselines import StableAudioVAE  # will only work if you have stable-audio-tools installed\n"
   ]
  },
  {
   "cell_type": "code",
   "execution_count": null,
   "id": "69bb34c8",
   "metadata": {},
   "outputs": [
    {
     "name": "stdout",
     "output_type": "stream",
     "text": [
      "Using device: cuda\n",
      "MUSDB18 dataset loaded successfully.\n"
     ]
    }
   ],
   "source": [
    "\n",
    "OUTPUT_ROOT = \"./demo_output\"\n",
    "MUSDB_ROOT = \"data/MUSDB18-HQ\"\n",
    "MAX_CHUNK_SIZE = 10 * 44100  # 10 seconds\n",
    "\n",
    "MODEL_IDS = [\n",
    "    \"m2l\",\n",
    "    \"lin-cae\",\n",
    "    \"lin-cae-2\",\n",
    "    \"stable-audio-vae\",\n",
    "]\n",
    "\n",
    "# Dictionary of tracks and time segments (in seconds) to process.\n",
    "TRACKS_TO_PROCESS = {\n",
    "    \"Sambasevam Shanmugam - Kaathaadi\": {\"start_s\": 61, \"end_s\": 67},\n",
    "    \"Al James - Schoolboy Facination\": {\"start_s\": 15, \"end_s\": 20},\n",
    "    \"Zeno - Signs\": {\"start_s\": 40, \"end_s\": 45},\n",
    "    \"Cristina Vane - So Easy\": {\"start_s\": 40, \"end_s\": 45},\n",
    "}\n",
    "\n",
    "# List of scalar values for the latent scaling\n",
    "SCALARS_FOR_VOCALS = [0.1, 0.5, 2.0]\n",
    "\n",
    "DEVICE = torch.device(\"cuda\" if torch.cuda.is_available() else \"cpu\")\n",
    "print(f\"Using device: {DEVICE}\")\n",
    "\n",
    "try:\n",
    "    mus = musdb.DB(root=MUSDB_ROOT, is_wav=True, subsets=\"test\", sample_rate=44100)\n",
    "    print(\"MUSDB18 dataset loaded successfully.\")\n",
    "except Exception as e:\n",
    "    print(f\"Error loading MUSDB18 dataset from '{MUSDB_ROOT}'. Please check the path. Error: {e}\")"
   ]
  },
  {
   "cell_type": "code",
   "execution_count": null,
   "id": "de3382c4",
   "metadata": {},
   "outputs": [
    {
     "name": "stdout",
     "output_type": "stream",
     "text": [
      "Helper functions defined.\n"
     ]
    }
   ],
   "source": [
    "def load_track_segment(mus_db, track_name, start_s, end_s, target_sr):\n",
    "    \"\"\"Loads a specific segment of a track and its stems.\"\"\"\n",
    "    # Find the track\n",
    "    track = None\n",
    "    for t in mus_db.tracks:\n",
    "        if t.name == track_name:\n",
    "            track = t\n",
    "            break\n",
    "    \n",
    "    if track is None:\n",
    "        raise ValueError(f\"Track '{track_name}' not found in MUSDB database.\")\n",
    "    \n",
    "    track.chunk_start = start_s\n",
    "    track.chunk_duration = end_s - start_s\n",
    "    \n",
    "    if track.rate != target_sr:\n",
    "        print(f\"Warning: Track sample rate ({track.rate} Hz) differs from model SR ({target_sr} Hz). Resampling is required, which may not be implemented here.\")\n",
    "    \n",
    "    mixture = track.audio.T.astype(np.float32) # Shape: [channels, samples]\n",
    "    \n",
    "    stems = {\n",
    "        'vocals': track.targets['vocals'].audio.T.astype(np.float32),\n",
    "        'bass': track.targets['bass'].audio.T.astype(np.float32),\n",
    "        'drums': track.targets['drums'].audio.T.astype(np.float32),\n",
    "        'other': track.targets['other'].audio.T.astype(np.float32),\n",
    "    }\n",
    "\n",
    "    # Average to mono if stereo\n",
    "    if mixture.shape[0] > 1:\n",
    "        mixture = mixture.mean(axis=0, keepdims=True)\n",
    "        for key in stems:\n",
    "            stems[key] = stems[key].mean(axis=0, keepdims=True)\n",
    "            \n",
    "    return mixture, stems\n",
    "\n",
    "def save_audio(wav_tensor, path, sr):\n",
    "    \"\"\"Saves a torch tensor as a WAV file.\"\"\"\n",
    "    # Ensure the directory exists\n",
    "    os.makedirs(os.path.dirname(path), exist_ok=True)\n",
    "    \n",
    "    # Move tensor to CPU, convert to numpy, and ensure correct shape [samples] or [samples, channels]\n",
    "    wav_numpy = wav_tensor.detach().cpu().numpy().squeeze()\n",
    "    sf.write(path, wav_numpy, sr)\n",
    "\n",
    "print(\"Helper functions defined.\")"
   ]
  },
  {
   "cell_type": "code",
   "execution_count": null,
   "id": "e13f0139",
   "metadata": {},
   "outputs": [
    {
     "name": "stderr",
     "output_type": "stream",
     "text": [
      "Models:   0%|          | 0/4 [00:00<?, ?it/s]"
     ]
    },
    {
     "name": "stdout",
     "output_type": "stream",
     "text": [
      "\n",
      "Loading model: m2l...\n",
      "Model loaded successfully.\n"
     ]
    },
    {
     "name": "stderr",
     "output_type": "stream",
     "text": []
    },
    {
     "name": "stdout",
     "output_type": "stream",
     "text": [
      "\n",
      "--- Processing 'Sambasevam Shanmugam - Kaathaadi' for model 'm2l' ---\n",
      "  Running: Autoencoding...\n",
      "  Running: Additivity...\n",
      "  Running: Separation...\n",
      "  Running: Latent Scaling...\n"
     ]
    },
    {
     "name": "stderr",
     "output_type": "stream",
     "text": []
    },
    {
     "name": "stdout",
     "output_type": "stream",
     "text": [
      "\n",
      "--- Processing 'Al James - Schoolboy Facination' for model 'm2l' ---\n",
      "  Running: Autoencoding...\n",
      "  Running: Additivity...\n",
      "  Running: Separation...\n",
      "  Running: Latent Scaling...\n"
     ]
    },
    {
     "name": "stderr",
     "output_type": "stream",
     "text": []
    },
    {
     "name": "stdout",
     "output_type": "stream",
     "text": [
      "\n",
      "--- Processing 'Zeno - Signs' for model 'm2l' ---\n",
      "  Running: Autoencoding...\n",
      "  Running: Additivity...\n",
      "  Running: Separation...\n",
      "  Running: Latent Scaling...\n"
     ]
    },
    {
     "name": "stderr",
     "output_type": "stream",
     "text": []
    },
    {
     "name": "stdout",
     "output_type": "stream",
     "text": [
      "\n",
      "--- Processing 'Cristina Vane - So Easy' for model 'm2l' ---\n",
      "  Running: Autoencoding...\n",
      "  Running: Additivity...\n",
      "  Running: Separation...\n",
      "  Running: Latent Scaling...\n"
     ]
    },
    {
     "name": "stderr",
     "output_type": "stream",
     "text": [
      "Models:  25%|██▌       | 1/4 [00:36<01:50, 36.87s/it]"
     ]
    },
    {
     "name": "stdout",
     "output_type": "stream",
     "text": [
      "\n",
      "Loading model: lin-cae...\n",
      "Model loaded successfully.\n"
     ]
    },
    {
     "name": "stderr",
     "output_type": "stream",
     "text": []
    },
    {
     "name": "stdout",
     "output_type": "stream",
     "text": [
      "\n",
      "--- Processing 'Sambasevam Shanmugam - Kaathaadi' for model 'lin-cae' ---\n",
      "  Running: Autoencoding...\n",
      "  Running: Additivity...\n",
      "  Running: Separation...\n",
      "  Running: Latent Scaling...\n"
     ]
    },
    {
     "name": "stderr",
     "output_type": "stream",
     "text": []
    },
    {
     "name": "stdout",
     "output_type": "stream",
     "text": [
      "\n",
      "--- Processing 'Al James - Schoolboy Facination' for model 'lin-cae' ---\n",
      "  Running: Autoencoding...\n",
      "  Running: Additivity...\n",
      "  Running: Separation...\n",
      "  Running: Latent Scaling...\n"
     ]
    },
    {
     "name": "stderr",
     "output_type": "stream",
     "text": []
    },
    {
     "name": "stdout",
     "output_type": "stream",
     "text": [
      "\n",
      "--- Processing 'Zeno - Signs' for model 'lin-cae' ---\n",
      "  Running: Autoencoding...\n",
      "  Running: Additivity...\n",
      "  Running: Separation...\n",
      "  Running: Latent Scaling...\n"
     ]
    },
    {
     "name": "stderr",
     "output_type": "stream",
     "text": []
    },
    {
     "name": "stdout",
     "output_type": "stream",
     "text": [
      "\n",
      "--- Processing 'Cristina Vane - So Easy' for model 'lin-cae' ---\n",
      "  Running: Autoencoding...\n",
      "  Running: Additivity...\n",
      "  Running: Separation...\n",
      "  Running: Latent Scaling...\n"
     ]
    },
    {
     "name": "stderr",
     "output_type": "stream",
     "text": [
      "Models:  50%|█████     | 2/4 [01:13<01:13, 36.59s/it]"
     ]
    },
    {
     "name": "stdout",
     "output_type": "stream",
     "text": [
      "\n",
      "Loading model: lin-cae-2...\n",
      "Model loaded successfully.\n"
     ]
    },
    {
     "name": "stderr",
     "output_type": "stream",
     "text": []
    },
    {
     "name": "stdout",
     "output_type": "stream",
     "text": [
      "\n",
      "--- Processing 'Sambasevam Shanmugam - Kaathaadi' for model 'lin-cae-2' ---\n",
      "  Running: Autoencoding...\n",
      "  Running: Additivity...\n",
      "  Running: Separation...\n",
      "  Running: Latent Scaling...\n"
     ]
    },
    {
     "name": "stderr",
     "output_type": "stream",
     "text": []
    },
    {
     "name": "stdout",
     "output_type": "stream",
     "text": [
      "\n",
      "--- Processing 'Al James - Schoolboy Facination' for model 'lin-cae-2' ---\n",
      "  Running: Autoencoding...\n",
      "  Running: Additivity...\n",
      "  Running: Separation...\n",
      "  Running: Latent Scaling...\n"
     ]
    },
    {
     "name": "stderr",
     "output_type": "stream",
     "text": []
    },
    {
     "name": "stdout",
     "output_type": "stream",
     "text": [
      "\n",
      "--- Processing 'Zeno - Signs' for model 'lin-cae-2' ---\n",
      "  Running: Autoencoding...\n",
      "  Running: Additivity...\n",
      "  Running: Separation...\n",
      "  Running: Latent Scaling...\n"
     ]
    },
    {
     "name": "stderr",
     "output_type": "stream",
     "text": []
    },
    {
     "name": "stdout",
     "output_type": "stream",
     "text": [
      "\n",
      "--- Processing 'Cristina Vane - So Easy' for model 'lin-cae-2' ---\n",
      "  Running: Autoencoding...\n",
      "  Running: Additivity...\n",
      "  Running: Separation...\n",
      "  Running: Latent Scaling...\n"
     ]
    },
    {
     "name": "stderr",
     "output_type": "stream",
     "text": [
      "Models:  75%|███████▌  | 3/4 [01:49<00:36, 36.61s/it]"
     ]
    },
    {
     "name": "stdout",
     "output_type": "stream",
     "text": [
      "\n",
      "Loading model: stable-audio-vae...\n",
      "No module named 'flash_attn'\n",
      "flash_attn not installed, disabling Flash Attention\n"
     ]
    },
    {
     "name": "stderr",
     "output_type": "stream",
     "text": [
      "/home/bernardo/anaconda3/envs/idm-311/lib/python3.11/site-packages/torch/nn/utils/weight_norm.py:143: FutureWarning: `torch.nn.utils.weight_norm` is deprecated in favor of `torch.nn.utils.parametrizations.weight_norm`.\n",
      "  WeightNorm.apply(module, name, dim)\n"
     ]
    },
    {
     "name": "stdout",
     "output_type": "stream",
     "text": [
      "Model loaded successfully.\n"
     ]
    },
    {
     "name": "stderr",
     "output_type": "stream",
     "text": []
    },
    {
     "name": "stdout",
     "output_type": "stream",
     "text": [
      "\n",
      "--- Processing 'Sambasevam Shanmugam - Kaathaadi' for model 'stable-audio-vae' ---\n",
      "  Running: Autoencoding...\n",
      "  Running: Additivity...\n",
      "  Running: Separation...\n",
      "  Running: Latent Scaling...\n"
     ]
    },
    {
     "name": "stderr",
     "output_type": "stream",
     "text": []
    },
    {
     "name": "stdout",
     "output_type": "stream",
     "text": [
      "\n",
      "--- Processing 'Al James - Schoolboy Facination' for model 'stable-audio-vae' ---\n",
      "  Running: Autoencoding...\n",
      "  Running: Additivity...\n",
      "  Running: Separation...\n",
      "  Running: Latent Scaling...\n"
     ]
    },
    {
     "name": "stderr",
     "output_type": "stream",
     "text": []
    },
    {
     "name": "stdout",
     "output_type": "stream",
     "text": [
      "\n",
      "--- Processing 'Zeno - Signs' for model 'stable-audio-vae' ---\n",
      "  Running: Autoencoding...\n",
      "  Running: Additivity...\n",
      "  Running: Separation...\n",
      "  Running: Latent Scaling...\n"
     ]
    },
    {
     "name": "stderr",
     "output_type": "stream",
     "text": []
    },
    {
     "name": "stdout",
     "output_type": "stream",
     "text": [
      "\n",
      "--- Processing 'Cristina Vane - So Easy' for model 'stable-audio-vae' ---\n",
      "  Running: Autoencoding...\n",
      "  Running: Additivity...\n",
      "  Running: Separation...\n",
      "  Running: Latent Scaling...\n"
     ]
    },
    {
     "name": "stderr",
     "output_type": "stream",
     "text": [
      "Models: 100%|██████████| 4/4 [02:22<00:00, 35.68s/it]"
     ]
    },
    {
     "name": "stdout",
     "output_type": "stream",
     "text": [
      "\n",
      "✅ All processing complete. Check the '/home/bernardo/bernardo-torres.github.io/documents/audio/linear-cae' directory for results.\n"
     ]
    },
    {
     "name": "stderr",
     "output_type": "stream",
     "text": [
      "\n"
     ]
    }
   ],
   "source": [
    "# from Pathlib import Path\n",
    "from pathlib import Path\n",
    "OUTPUT_ROOT = Path(OUTPUT_ROOT)\n",
    "for model_id in tqdm(MODEL_IDS, desc=\"Models\"):\n",
    "    \n",
    "    print(f\"\\nLoading model: {model_id}...\")\n",
    "    try:\n",
    "        if model_id == \"stable-audio-vae\":\n",
    "            model = StableAudioVAE()\n",
    "        else:\n",
    "            model = Autoencoder.from_pretrained(model_id, max_chunk_size=MAX_CHUNK_SIZE, overlap_percentage=0.5)\n",
    "        model.to(DEVICE).eval()\n",
    "        sample_rate = model.sample_rate\n",
    "        print(\"Model loaded successfully.\")\n",
    "    except Exception as e:\n",
    "        print(f\"Could not load model {model_id}. Skipping. Error: {e}\")\n",
    "        continue\n",
    "\n",
    "    for track_name, times in tqdm(TRACKS_TO_PROCESS.items(), desc=f\"Tracks for {model_id}\", leave=False):\n",
    "        \n",
    "        # sane_track_name = track_name.replace(' ', '_').replace('-', '_')\n",
    "        sane_track_name = track_name\n",
    "        output_dir = OUTPUT_ROOT / sane_track_name /  model_id  \n",
    "        output_dir.mkdir(parents=True, exist_ok=True)\n",
    "        \n",
    "        print(f\"\\n--- Processing '{track_name}' for model '{model_id}' ---\")\n",
    "        mixture, stems = load_track_segment(\n",
    "            mus, track_name, times['start_s'], times['end_s'], sample_rate\n",
    "        )\n",
    "        \n",
    "        if mixture is None:\n",
    "            continue\n",
    "            \n",
    "        mix_tensor = torch.from_numpy(mixture).to(DEVICE).float()\n",
    "        stem_tensors = {k: torch.from_numpy(v).to(DEVICE).float() for k, v in stems.items()}\n",
    "\n",
    "        audio_len = mix_tensor.shape[-1]\n",
    "        \n",
    "        with torch.no_grad():\n",
    "            \n",
    "            print(\"  Running: Autoencoding...\")\n",
    "            z_mix = model.encode(mix_tensor)\n",
    "            recon_mix = model.decode(z_mix, full_length=audio_len)\n",
    "            save_audio(recon_mix, output_dir / \"ae_mix.wav\", sample_rate)\n",
    "            save_audio(mix_tensor, output_dir.parent / \"gt_mix.wav\", sample_rate)\n",
    "\n",
    "            z_vocals = model.encode(stem_tensors['vocals'])\n",
    "            recon_vocals = model.decode(z_vocals, full_length=audio_len)\n",
    "            save_audio(recon_vocals, output_dir / \"ae_vocals.wav\", sample_rate)\n",
    "\n",
    "            print(\"  Running: Additivity...\")\n",
    "            stem_latents = {name: model.encode(audio) for name, audio in stem_tensors.items()}\n",
    "            z_sum = sum(stem_latents.values())\n",
    "            recon_from_sum = model.decode(z_sum, full_length=audio_len)\n",
    "            save_audio(recon_from_sum, output_dir / \"additivity.wav\", sample_rate)\n",
    "\n",
    "            print(\"  Running: Separation...\")\n",
    "            accompaniment = mix_tensor - stem_tensors['vocals']\n",
    "            z_accomp = model.encode(accompaniment)\n",
    "            z_sep_vocals = z_mix - z_accomp\n",
    "            sep_vocals = model.decode(z_sep_vocals, full_length=audio_len)\n",
    "            save_audio(sep_vocals, output_dir / \"sep_vocals.wav\", sample_rate)\n",
    "            save_audio(stem_tensors['vocals'], output_dir / \"gt_vocals.wav\", sample_rate)\n",
    "\n",
    "            print(\"  Running: Latent Scaling...\")\n",
    "            z_vocals = stem_latents.get('vocals')\n",
    "            if z_vocals is not None:\n",
    "                for scalar in SCALARS_FOR_VOCALS:\n",
    "                    z_scaled_vocals = z_vocals * scalar\n",
    "                    scaled_vocals = model.decode(z_scaled_vocals, full_length=audio_len)\n",
    "                    filename = f\"scale_{str(scalar).replace('.', '_')}.wav\" \n",
    "                    save_audio(scaled_vocals, output_dir / filename, sample_rate)\n",
    "            else:\n",
    "                print(\"    Skipping latent scaling: 'vocals' stem not found.\")\n",
    "        \n",
    "print(f\"\\n✅ All processing complete. Check the '{OUTPUT_ROOT}' directory for results.\")"
   ]
  },
  {
   "cell_type": "code",
   "execution_count": null,
   "id": "47008f9f",
   "metadata": {},
   "outputs": [],
   "source": []
  }
 ],
 "metadata": {
  "kernelspec": {
   "display_name": "idm-311",
   "language": "python",
   "name": "python3"
  },
  "language_info": {
   "codemirror_mode": {
    "name": "ipython",
    "version": 3
   },
   "file_extension": ".py",
   "mimetype": "text/x-python",
   "name": "python",
   "nbconvert_exporter": "python",
   "pygments_lexer": "ipython3",
   "version": "3.11.14"
  }
 },
 "nbformat": 4,
 "nbformat_minor": 5
}
